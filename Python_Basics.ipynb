{
  "nbformat": 4,
  "nbformat_minor": 0,
  "metadata": {
    "colab": {
      "provenance": [],
      "toc_visible": true
    },
    "kernelspec": {
      "name": "python3",
      "display_name": "Python 3"
    },
    "language_info": {
      "name": "python"
    }
  },
  "cells": [
    {
      "cell_type": "markdown",
      "source": [
        "1. Python is a high-stage, interpreted programming language recognised for its simplicity and clarity. It is extensively used in net improvement, statistics technological know-how, automation, synthetic intelligence, and greater. Python is famous due to the fact:\n",
        "\n",
        "It has a simple, smooth-to-examine syntax.\n",
        "\n",
        "It supports multiple programming paradigms (procedural, object-oriented, purposeful).\n",
        "\n",
        "It has a full-size ecosystem of libraries and frameworks.\n",
        "\n",
        "It has strong network guide."
      ],
      "metadata": {
        "id": "-UnLQ8IIpqWp"
      }
    },
    {
      "cell_type": "markdown",
      "source": [
        "2. An interpreter is a program that executes Python code line by line instead of compiling the entire script before execution. Python uses an interpreter to convert human-readable code into machine-executable instructions."
      ],
      "metadata": {
        "id": "jjdzlZ7lqNOZ"
      }
    },
    {
      "cell_type": "markdown",
      "source": [
        "3. Keywords in Python are reserved words which have a unique meaning and cannot be used as variable names. Examples consist of if, else, while, for, def, class, go back, strive, besides, import, and True."
      ],
      "metadata": {
        "id": "Gh-yo97GqTIJ"
      }
    },
    {
      "cell_type": "markdown",
      "source": [
        "4. No, keywords cannot be used as variable names because they have predefined meanings and are essential for Python syntax."
      ],
      "metadata": {
        "id": "ojg-U3BTqeam"
      }
    },
    {
      "cell_type": "markdown",
      "source": [
        "5. Mutability refers to whether or not an item can be changed after its creation. Mutable gadgets may be modified, while immutable objects cannot be altered after they're created"
      ],
      "metadata": {
        "id": "e6PjK_cwqmMR"
      }
    },
    {
      "cell_type": "markdown",
      "source": [
        "6. Lists: Mutable because their elements may be modified, added, or removed.\n",
        "Tuples: Immutable due to the fact once created, their elements can not be changed. This makes tuples quicker and more secure for facts integrity."
      ],
      "metadata": {
        "id": "PzWqSiEQrPjB"
      }
    },
    {
      "cell_type": "markdown",
      "source": [
        "7. == checks whether or not two items have the same value.\n",
        "Is checks whether or not two objects talk over with the same memory area (identity evaluation).\n"
      ],
      "metadata": {
        "id": "uUxGuDUXrQPI"
      }
    },
    {
      "cell_type": "markdown",
      "source": [
        "8. Logical operators are used to combine more than one situations:\n",
        "and: Returns True if each conditions are real.\n",
        "Or: Returns True if at least one condition is authentic.\n",
        "Now not: Negates the situation."
      ],
      "metadata": {
        "id": "0--_myDtrQds"
      }
    },
    {
      "cell_type": "markdown",
      "source": [
        "9. Type casting (or type conversion) is the technique of changing one data type into some other. Python supports both implicit and explicit type casting."
      ],
      "metadata": {
        "id": "W8dQPGEOrQpI"
      }
    },
    {
      "cell_type": "markdown",
      "source": [
        "10. Implicit type casting: The interpreter automatically converts information kinds (e.G., int → glide).\n",
        "Explicit kind casting: The programmer manually converts information types the use of features like int(), flow(), str(), etc."
      ],
      "metadata": {
        "id": "MrMstvcgr70P"
      }
    },
    {
      "cell_type": "markdown",
      "source": [
        "11. Conditional statements (if, elif, else) are used to make decisions in a application primarily based on unique situations.\n"
      ],
      "metadata": {
        "id": "BvX2dI1Vr7nq"
      }
    },
    {
      "cell_type": "markdown",
      "source": [
        "12. The elif announcement allows checking more than one conditions sequentially. If the primary situation fails, it movements to elif. If all conditions fail, the else block executes.\n"
      ],
      "metadata": {
        "id": "oZcJFoOYr6cv"
      }
    },
    {
      "cell_type": "markdown",
      "source": [
        "13. for loop: Used when the number of iterations is known.\n",
        "while loop: Used when iterations depend on a condition that changes dynamically.\n"
      ],
      "metadata": {
        "id": "tT1pRvU8r6PG"
      }
    },
    {
      "cell_type": "markdown",
      "source": [
        "14.A while loop is ideal when a condition-based iteration is needed. Example: Reading user input continuously until they enter a valid response."
      ],
      "metadata": {
        "id": "Puhic6MGrQ0E"
      }
    },
    {
      "cell_type": "code",
      "execution_count": 1,
      "metadata": {
        "colab": {
          "base_uri": "https://localhost:8080/"
        },
        "id": "djs6zzl1pmvG",
        "outputId": "648d6eb8-bce2-4ceb-ae34-33ce7338cb0a"
      },
      "outputs": [
        {
          "output_type": "stream",
          "name": "stdout",
          "text": [
            "Hello, World!\n"
          ]
        }
      ],
      "source": [
        "# prompt: Write a Python program to print \"Hello, World!\n",
        "\n",
        "print(\"Hello, World!\")\n"
      ]
    },
    {
      "cell_type": "code",
      "source": [
        "# prompt: Write a Python program that displays your name(Sayantan Paul) and age(26)\n",
        "\n",
        "name = \"Sayantan Paul\"\n",
        "age = 26\n",
        "\n",
        "print(f\"My name is {name} and I am {age} years old.\")\n"
      ],
      "metadata": {
        "colab": {
          "base_uri": "https://localhost:8080/"
        },
        "id": "zj--2p0_v5HU",
        "outputId": "40ea7bca-a207-433d-b26f-c3462fb1183c"
      },
      "execution_count": 3,
      "outputs": [
        {
          "output_type": "stream",
          "name": "stdout",
          "text": [
            "My name is Sayantan Paul and I am 26 years old.\n"
          ]
        }
      ]
    },
    {
      "cell_type": "code",
      "source": [
        "# prompt: Write code to print all the pre-defined keywords in Python using the keyword library\n",
        "\n",
        "import keyword\n",
        "\n",
        "# Print all keywords\n",
        "print(\"List of all keywords:\")\n",
        "keyword.kwlist\n"
      ],
      "metadata": {
        "colab": {
          "base_uri": "https://localhost:8080/"
        },
        "id": "OXECuQ3qv5nL",
        "outputId": "b24861f1-e301-47ff-ef70-ea3c3b3630f2"
      },
      "execution_count": 4,
      "outputs": [
        {
          "output_type": "stream",
          "name": "stdout",
          "text": [
            "List of all keywords:\n"
          ]
        },
        {
          "output_type": "execute_result",
          "data": {
            "text/plain": [
              "['False',\n",
              " 'None',\n",
              " 'True',\n",
              " 'and',\n",
              " 'as',\n",
              " 'assert',\n",
              " 'async',\n",
              " 'await',\n",
              " 'break',\n",
              " 'class',\n",
              " 'continue',\n",
              " 'def',\n",
              " 'del',\n",
              " 'elif',\n",
              " 'else',\n",
              " 'except',\n",
              " 'finally',\n",
              " 'for',\n",
              " 'from',\n",
              " 'global',\n",
              " 'if',\n",
              " 'import',\n",
              " 'in',\n",
              " 'is',\n",
              " 'lambda',\n",
              " 'nonlocal',\n",
              " 'not',\n",
              " 'or',\n",
              " 'pass',\n",
              " 'raise',\n",
              " 'return',\n",
              " 'try',\n",
              " 'while',\n",
              " 'with',\n",
              " 'yield']"
            ]
          },
          "metadata": {},
          "execution_count": 4
        }
      ]
    },
    {
      "cell_type": "code",
      "source": [
        "# prompt: Write a program that checks if a given word is a Python keyword.\n",
        "\n",
        "import keyword\n",
        "\n",
        "def is_keyword(word):\n",
        "  \"\"\"\n",
        "  Checks if a given word is a Python keyword.\n",
        "\n",
        "  Args:\n",
        "    word: The word to check.\n",
        "\n",
        "  Returns:\n",
        "    True if the word is a keyword, False otherwise.\n",
        "  \"\"\"\n",
        "  return keyword.iskeyword(word)\n",
        "\n",
        "# Example usage\n",
        "word = \"for\"\n",
        "if is_keyword(word):\n",
        "  print(f\"'{word}' is a Python keyword.\")\n",
        "else:\n",
        "  print(f\"'{word}' is not a Python keyword.\")\n",
        "\n",
        "word = \"hello\"\n",
        "if is_keyword(word):\n",
        "  print(f\"'{word}' is a Python keyword.\")\n",
        "else:\n",
        "  print(f\"'{word}' is not a Python keyword.\")\n"
      ],
      "metadata": {
        "colab": {
          "base_uri": "https://localhost:8080/"
        },
        "id": "x2z9jIZCv51e",
        "outputId": "c07f8bb4-e902-4021-abab-52ec01275e19"
      },
      "execution_count": 5,
      "outputs": [
        {
          "output_type": "stream",
          "name": "stdout",
          "text": [
            "'for' is a Python keyword.\n",
            "'hello' is not a Python keyword.\n"
          ]
        }
      ]
    },
    {
      "cell_type": "code",
      "source": [
        "# prompt: Create a list and tuple in Python, and demonstrate how attempting to change an element works differently\n",
        "# for each.\n",
        "\n",
        "# Create a list\n",
        "my_list = [1, 2, 3, 4, 5]\n",
        "\n",
        "# Attempt to change an element in the list\n",
        "my_list[0] = 10\n",
        "print(\"Modified list:\", my_list)  # Output: Modified list: [10, 2, 3, 4, 5]\n",
        "\n",
        "# Create a tuple\n",
        "my_tuple = (1, 2, 3, 4, 5)\n",
        "\n",
        "# Attempt to change an element in the tuple (this will raise an error)\n",
        "try:\n",
        "    my_tuple[0] = 10\n",
        "except TypeError as e:\n",
        "    print(\"Error modifying tuple:\", e)  # Output: Error modifying tuple: 'tuple' object does not support item assignment\n"
      ],
      "metadata": {
        "colab": {
          "base_uri": "https://localhost:8080/"
        },
        "id": "mcYUhoXBv7z6",
        "outputId": "2aea3315-e0a6-45a1-fe6f-e70098bc2be8"
      },
      "execution_count": 6,
      "outputs": [
        {
          "output_type": "stream",
          "name": "stdout",
          "text": [
            "Modified list: [10, 2, 3, 4, 5]\n",
            "Error modifying tuple: 'tuple' object does not support item assignment\n"
          ]
        }
      ]
    },
    {
      "cell_type": "code",
      "source": [
        "# prompt:  Write a function to demonstrate the behavior of mutable and immutable arguments\n",
        "\n",
        "def demonstrate_mutability(mutable_arg, immutable_arg):\n",
        "    \"\"\"Demonstrates the behavior of mutable and immutable arguments.\n",
        "\n",
        "    Args:\n",
        "        mutable_arg: A mutable argument (e.g., a list).\n",
        "        immutable_arg: An immutable argument (e.g., a string or tuple).\n",
        "    \"\"\"\n",
        "\n",
        "    print(\"Inside the function:\")\n",
        "    print(\"Before modification:\")\n",
        "    print(\"Mutable argument:\", mutable_arg)\n",
        "    print(\"Immutable argument:\", immutable_arg)\n",
        "\n",
        "    mutable_arg.append(4)  # Modify the mutable argument\n",
        "    # immutable_arg += \" world\"  # Attempting to modify the immutable argument (this will create a new string object)\n",
        "    immutable_arg = immutable_arg + \" world\" # correct way to modify immutable argument\n",
        "\n",
        "    print(\"After modification:\")\n",
        "    print(\"Mutable argument:\", mutable_arg)\n",
        "    print(\"Immutable argument:\", immutable_arg)\n",
        "\n",
        "# Example usage\n",
        "my_list = [1, 2, 3]\n",
        "my_string = \"hello\"\n",
        "demonstrate_mutability(my_list, my_string)\n",
        "\n",
        "\n",
        "print(\"\\nOutside the function:\")\n",
        "print(\"Mutable argument:\", my_list)\n",
        "print(\"Immutable argument:\", my_string)\n"
      ],
      "metadata": {
        "colab": {
          "base_uri": "https://localhost:8080/"
        },
        "id": "qTwD2uV_v72z",
        "outputId": "015cfa06-d16e-4965-ba5b-ec36338bae95"
      },
      "execution_count": 14,
      "outputs": [
        {
          "output_type": "stream",
          "name": "stdout",
          "text": [
            "Inside the function:\n",
            "Before modification:\n",
            "Mutable argument: [1, 2, 3]\n",
            "Immutable argument: hello\n",
            "After modification:\n",
            "Mutable argument: [1, 2, 3, 4]\n",
            "Immutable argument: hello world\n",
            "\n",
            "Outside the function:\n",
            "Mutable argument: [1, 2, 3, 4]\n",
            "Immutable argument: hello\n"
          ]
        }
      ]
    },
    {
      "cell_type": "code",
      "source": [
        "# prompt: Write a program that performs basic arithmetic operations on two user-input numbers\n",
        "\n",
        "# Get user input for two numbers\n",
        "try:\n",
        "    num1 = float(input(\"Enter the first number: \"))\n",
        "    num2 = float(input(\"Enter the second number: \"))\n",
        "except ValueError:\n",
        "    print(\"Invalid input. Please enter numbers only.\")\n",
        "    exit()\n",
        "\n",
        "# Perform arithmetic operations\n",
        "print(\"Select operation:\")\n",
        "print(\"1. Add\")\n",
        "print(\"2. Subtract\")\n",
        "print(\"3. Multiply\")\n",
        "print(\"4. Divide\")\n",
        "\n",
        "choice = input(\"Enter choice(1/2/3/4): \")\n",
        "\n",
        "if choice in ('1', '2', '3', '4'):\n",
        "    if choice == '1':\n",
        "        result = num1 + num2\n",
        "        print(num1, \"+\", num2, \"=\", result)\n",
        "    elif choice == '2':\n",
        "        result = num1 - num2\n",
        "        print(num1, \"-\", num2, \"=\", result)\n",
        "    elif choice == '3':\n",
        "        result = num1 * num2\n",
        "        print(num1, \"*\", num2, \"=\", result)\n",
        "    elif choice == '4':\n",
        "        if num2 == 0:\n",
        "            print(\"Division by zero error!\")\n",
        "        else:\n",
        "            result = num1 / num2\n",
        "            print(num1, \"/\", num2, \"=\", result)\n",
        "else:\n",
        "    print(\"Invalid input\")\n"
      ],
      "metadata": {
        "colab": {
          "base_uri": "https://localhost:8080/"
        },
        "id": "8dKJO9Sxv757",
        "outputId": "a4f5514b-6c22-47aa-c394-50ff50b7d1e7"
      },
      "execution_count": 13,
      "outputs": [
        {
          "output_type": "stream",
          "name": "stdout",
          "text": [
            "Enter the first number: 1\n",
            "Enter the second number: 2\n",
            "Select operation:\n",
            "1. Add\n",
            "2. Subtract\n",
            "3. Multiply\n",
            "4. Divide\n",
            "Enter choice(1/2/3/4): 3\n",
            "1.0 * 2.0 = 2.0\n"
          ]
        }
      ]
    },
    {
      "cell_type": "code",
      "source": [
        "# prompt: Write a program to demonstrate the use of logical operators.\n",
        "\n",
        "# Demonstrating logical operators\n",
        "\n",
        "# and operator\n",
        "a = True\n",
        "b = False\n",
        "print(f\"a and b: {a and b}\")  # Output: False\n",
        "\n",
        "# or operator\n",
        "print(f\"a or b: {a or b}\")  # Output: True\n",
        "\n",
        "# not operator\n",
        "print(f\"not a: {not a}\")  # Output: False\n",
        "print(f\"not b: {not b}\")  # Output: True\n",
        "\n",
        "# Combining logical operators\n",
        "x = 10\n",
        "y = 5\n",
        "print(f\"(x > y) and (x != y): {(x > y) and (x != y)}\")  # Output: True\n",
        "print(f\"(x < y) or (x == y): {(x < y) or (x == y)}\")  # Output: False\n",
        "print(f\"not (x == y): {not (x == y)}\")  # Output: True\n"
      ],
      "metadata": {
        "colab": {
          "base_uri": "https://localhost:8080/"
        },
        "id": "Dsog3Ndgv78z",
        "outputId": "d464f8d6-9e83-4c91-ed28-c9f4dc8c98fa"
      },
      "execution_count": 12,
      "outputs": [
        {
          "output_type": "stream",
          "name": "stdout",
          "text": [
            "a and b: False\n",
            "a or b: True\n",
            "not a: False\n",
            "not b: True\n",
            "(x > y) and (x != y): True\n",
            "(x < y) or (x == y): False\n",
            "not (x == y): True\n"
          ]
        }
      ]
    },
    {
      "cell_type": "code",
      "source": [
        "# prompt: Write a Python program to convert user input from string to integer, float, and boolean types\n",
        "\n",
        "def convert_input():\n",
        "    \"\"\"\n",
        "    Converts user input to integer, float, and boolean types.\n",
        "    \"\"\"\n",
        "\n",
        "    user_input = input(\"Enter a value: \")\n",
        "\n",
        "    try:\n",
        "        integer_value = int(user_input)\n",
        "        print(\"Integer:\", integer_value)\n",
        "    except ValueError:\n",
        "        print(\"Invalid input for integer conversion.\")\n",
        "\n",
        "    try:\n",
        "        float_value = float(user_input)\n",
        "        print(\"Float:\", float_value)\n",
        "    except ValueError:\n",
        "        print(\"Invalid input for float conversion.\")\n",
        "\n",
        "    try:\n",
        "        boolean_value = bool(user_input)  # Empty string evaluates to False\n",
        "        if user_input.lower() == \"true\":\n",
        "            boolean_value = True\n",
        "        elif user_input.lower() == \"false\":\n",
        "            boolean_value = False\n",
        "        print(\"Boolean:\", boolean_value)\n",
        "    except ValueError:\n",
        "      print(\"Invalid input for boolean conversion. Use 'true' or 'false'.\")\n",
        "\n",
        "\n",
        "convert_input()\n"
      ],
      "metadata": {
        "colab": {
          "base_uri": "https://localhost:8080/"
        },
        "id": "4mz3cOEOv8AN",
        "outputId": "17e3a0a5-4fe1-4667-8adf-3709bd3c8e9b"
      },
      "execution_count": 11,
      "outputs": [
        {
          "output_type": "stream",
          "name": "stdout",
          "text": [
            "Enter a value: 20\n",
            "Integer: 20\n",
            "Float: 20.0\n",
            "Boolean: True\n"
          ]
        }
      ]
    },
    {
      "cell_type": "code",
      "source": [
        "# prompt:  Write code to demonstrate type casting with list elements.\n",
        "\n",
        "# Demonstrating type casting with list elements\n",
        "\n",
        "my_list = [1, 2.5, \"3\", True, \"4.5\", \"hello\"]\n",
        "\n",
        "# Integer conversion\n",
        "new_list_int = []\n",
        "for item in my_list:\n",
        "    try:\n",
        "        new_list_int.append(int(item))\n",
        "    except ValueError:\n",
        "        new_list_int.append(item)\n",
        "print(\"List after int type casting:\", new_list_int)\n",
        "\n",
        "# Float conversion\n",
        "new_list_float = []\n",
        "for item in my_list:\n",
        "    try:\n",
        "        new_list_float.append(float(item))\n",
        "    except ValueError:\n",
        "        new_list_float.append(item)\n",
        "print(\"List after float type casting:\", new_list_float)\n",
        "\n",
        "# String conversion\n",
        "new_list_str = []\n",
        "for item in my_list:\n",
        "    new_list_str.append(str(item))\n",
        "print(\"List after string type casting:\", new_list_str)\n",
        "\n",
        "# Boolean conversion\n",
        "new_list_bool = []\n",
        "for item in my_list:\n",
        "    new_list_bool.append(bool(item)) # Empty string or 0 will be False\n",
        "print(\"List after boolean type casting:\", new_list_bool)\n"
      ],
      "metadata": {
        "colab": {
          "base_uri": "https://localhost:8080/"
        },
        "id": "tHDef42Hv9Ce",
        "outputId": "d121f0e8-09c6-4af3-c70f-8c63f484abcc"
      },
      "execution_count": 7,
      "outputs": [
        {
          "output_type": "stream",
          "name": "stdout",
          "text": [
            "List after int type casting: [1, 2, 3, 1, '4.5', 'hello']\n",
            "List after float type casting: [1.0, 2.5, 3.0, 1.0, 4.5, 'hello']\n",
            "List after string type casting: ['1', '2.5', '3', 'True', '4.5', 'hello']\n",
            "List after boolean type casting: [True, True, True, True, True, True]\n"
          ]
        }
      ]
    },
    {
      "cell_type": "code",
      "source": [
        "# prompt:  Write a program that checks if a number is positive, negative, or zero\n",
        "\n",
        "def check_number(number):\n",
        "    \"\"\"\n",
        "    Checks if a number is positive, negative, or zero.\n",
        "\n",
        "    Args:\n",
        "        number: The number to check.\n",
        "\n",
        "    Returns:\n",
        "        A string indicating whether the number is positive, negative, or zero.\n",
        "    \"\"\"\n",
        "    if number > 0:\n",
        "        return \"Positive\"\n",
        "    elif number < 0:\n",
        "        return \"Negative\"\n",
        "    else:\n",
        "        return \"Zero\"\n",
        "\n",
        "# Example usage\n",
        "number = 10\n",
        "result = check_number(number)\n",
        "print(f\"The number {number} is {result}.\")\n",
        "\n",
        "number = -5\n",
        "result = check_number(number)\n",
        "print(f\"The number {number} is {result}.\")\n",
        "\n",
        "number = 0\n",
        "result = check_number(number)\n",
        "print(f\"The number {number} is {result}.\")\n"
      ],
      "metadata": {
        "colab": {
          "base_uri": "https://localhost:8080/"
        },
        "id": "R6AdY0Nzv9RI",
        "outputId": "5dba2238-b540-478a-9b1b-3d9c1cc9fbac"
      },
      "execution_count": 10,
      "outputs": [
        {
          "output_type": "stream",
          "name": "stdout",
          "text": [
            "The number 10 is Positive.\n",
            "The number -5 is Negative.\n",
            "The number 0 is Zero.\n"
          ]
        }
      ]
    },
    {
      "cell_type": "code",
      "source": [
        "# prompt:  Write a for loop to print numbers from 1 to 10.\n",
        "\n",
        "for i in range(1, 11):\n",
        "   print(i) # Indented this line to be inside the for loop\n",
        "\n"
      ],
      "metadata": {
        "colab": {
          "base_uri": "https://localhost:8080/"
        },
        "id": "0k-tBPjnv9cu",
        "outputId": "35a10231-7ef9-4bfb-aeec-2e61abb0e923"
      },
      "execution_count": 15,
      "outputs": [
        {
          "output_type": "stream",
          "name": "stdout",
          "text": [
            "1\n",
            "2\n",
            "3\n",
            "4\n",
            "5\n",
            "6\n",
            "7\n",
            "8\n",
            "9\n",
            "10\n"
          ]
        }
      ]
    },
    {
      "cell_type": "code",
      "source": [
        "# prompt: Write a Python program to find the sum of all even numbers between 1 and 50\n",
        "\n",
        "# Calculate the sum of even numbers between 1 and 50\n",
        "sum_of_evens = 0\n",
        "for number in range(2, 51, 2):\n",
        "  sum_of_evens += number\n",
        "\n",
        "print(f\"The sum of even numbers between 1 and 50 is: {sum_of_evens}\")\n"
      ],
      "metadata": {
        "colab": {
          "base_uri": "https://localhost:8080/"
        },
        "id": "k0d6A2Llv9pO",
        "outputId": "e2646d1c-a6a2-4688-caa9-bc19218d101b"
      },
      "execution_count": 16,
      "outputs": [
        {
          "output_type": "stream",
          "name": "stdout",
          "text": [
            "The sum of even numbers between 1 and 50 is: 650\n"
          ]
        }
      ]
    },
    {
      "cell_type": "code",
      "source": [
        "# prompt: Write a program to reverse a string using a while loop.\n",
        "\n",
        "def reverse_string(input_string):\n",
        "    reversed_string = \"\"\n",
        "    index = len(input_string) - 1\n",
        "    while index >= 0:\n",
        "        reversed_string += input_string[index]\n",
        "        index -= 1\n",
        "    return reversed_string\n",
        "\n",
        "# Example usage\n",
        "original_string = \"hello\"\n",
        "reversed_string = reverse_string(original_string)\n",
        "print(f\"Reversed string: {reversed_string}\")\n"
      ],
      "metadata": {
        "colab": {
          "base_uri": "https://localhost:8080/"
        },
        "id": "Z-tjn6rmv91F",
        "outputId": "e6cf02db-bde9-40ae-e6d5-d9f2f000595c"
      },
      "execution_count": 17,
      "outputs": [
        {
          "output_type": "stream",
          "name": "stdout",
          "text": [
            "Reversed string: olleh\n"
          ]
        }
      ]
    },
    {
      "cell_type": "code",
      "source": [
        "# prompt: Write a Python program to calculate the factorial of a number provided by the user using a while loop.\n",
        "\n",
        "def factorial(n):\n",
        "    \"\"\"\n",
        "    Calculate the factorial of a non-negative integer using a while loop.\n",
        "\n",
        "    Args:\n",
        "        n: The non-negative integer.\n",
        "\n",
        "    Returns:\n",
        "        The factorial of n.\n",
        "        Returns 1 if n is 0.\n",
        "        Raises ValueError if n is negative.\n",
        "    \"\"\"\n",
        "    if n < 0:\n",
        "        raise ValueError(\"Factorial is not defined for negative numbers.\")\n",
        "    elif n == 0:\n",
        "        return 1\n",
        "    else:\n",
        "        fact = 1\n",
        "        i = 1\n",
        "        while i <= n:\n",
        "            fact *= i\n",
        "            i += 1\n",
        "        return fact\n",
        "\n",
        "try:\n",
        "    num = int(input(\"Enter a non-negative integer: \"))\n",
        "    result = factorial(num)\n",
        "    print(f\"The factorial of {num} is {result}\")\n",
        "except ValueError as e:\n",
        "   print(f\"Error: {e}\") # Added indentation and print statement to handle the exception\n"
      ],
      "metadata": {
        "colab": {
          "base_uri": "https://localhost:8080/"
        },
        "id": "uuOXExBMv-BR",
        "outputId": "780699ae-2cf7-485c-a5a3-56852bd1becd"
      },
      "execution_count": 19,
      "outputs": [
        {
          "output_type": "stream",
          "name": "stdout",
          "text": [
            "Enter a non-negative integer: 3\n",
            "The factorial of 3 is 6\n"
          ]
        }
      ]
    },
    {
      "cell_type": "code",
      "source": [],
      "metadata": {
        "id": "UpzHXkXiv-Of"
      },
      "execution_count": null,
      "outputs": []
    }
  ]
}